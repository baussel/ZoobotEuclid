{
  "cells": [
    {
      "cell_type": "markdown",
      "metadata": {
        "id": "d1d36ITenCdp"
      },
      "source": [
        "# JPG Creation Hubble"
      ]
    },
    {
      "cell_type": "code",
      "execution_count": null,
      "metadata": {
        "colab": {
          "base_uri": "https://localhost:8080/"
        },
        "id": "NmqHBS3dSlwz",
        "outputId": "14e758be-4fcf-4172-eee8-41b4d9d55ae3"
      },
      "outputs": [
        {
          "output_type": "stream",
          "name": "stdout",
          "text": [
            "Mounted at /content/drive\n"
          ]
        }
      ],
      "source": [
        "#Mount Google Drive with this Colab\n",
        "from google.colab import drive\n",
        "drive.mount('/content/drive', force_remount=True)"
      ]
    },
    {
      "cell_type": "code",
      "execution_count": null,
      "metadata": {
        "id": "ksfu26JUSx1c"
      },
      "outputs": [],
      "source": [
        "import numpy as np\n",
        "import matplotlib.pyplot as plt\n",
        "import pandas as pd\n",
        "import astropy\n",
        "from astropy.io import fits\n",
        "from astropy.visualization import AsinhStretch, MinMaxInterval\n",
        "from PIL import Image, ImageOps\n",
        "from tqdm import tqdm\n",
        "import glob\n",
        "import os"
      ]
    },
    {
      "cell_type": "code",
      "execution_count": null,
      "metadata": {
        "id": "xfHPNUV08guW"
      },
      "outputs": [],
      "source": [
        "def arcsinh_stretch_ds9(data, a=10, factor=3):\n",
        "    #https://ds9.si.edu/doc/ref/how.html\n",
        "    return np.arcsinh(data * a)/factor"
      ]
    },
    {
      "cell_type": "code",
      "execution_count": null,
      "metadata": {
        "id": "ZxR2fV-4F3vC"
      },
      "outputs": [],
      "source": [
        "def create_jpg(img,path_jpg,name,target_size=300):\n",
        "    native_pil_image = Image.fromarray((img * 255).astype(np.uint8),mode='L').convert('RGB')\n",
        "    resized_image = native_pil_image.resize(size=(target_size, target_size), resample=Image.LANCZOS)\n",
        "    resized_image_flip = ImageOps.flip(resized_image)\n",
        "    resized_image_flip.save(path_jpg+name+\".jpg\")"
      ]
    },
    {
      "cell_type": "code",
      "source": [
        "def convert_to_jpgs(path_fits, path_jpgs, euclid_images, target_size=300):\n",
        "    print(\"Converting to jpgs...\")\n",
        "    filenames = glob.glob(path_fits+\"*.fits\")\n",
        "    if not os.path.exists(path_jpgs):\n",
        "        os.makedirs(path_jpgs)\n",
        "    interval = MinMaxInterval()\n",
        "    failures = []\n",
        "    for i in tqdm(range(len(filenames))):\n",
        "        try:\n",
        "            image_path = filenames[i]\n",
        "            filenames[i] = filenames[i].replace(path_fits,\"\").replace(\".fits\",\"\")\n",
        "            if np.isin(filenames[i].split(\"_\")[-1],euclid_images):\n",
        "                image_data = fits.getdata(image_path, ext=0)\n",
        "                image_data_norm = interval(image_data)\n",
        "                image_data_asinh = arcsinh_stretch_ds9(image_data_norm)\n",
        "                create_jpg(image_data_asinh,path_jpgs,filenames[i],target_size)\n",
        "        except Exception as e:\n",
        "            print(\"!!! Conversion error !!!\")\n",
        "            print(e)\n",
        "            failures.append(filenames[i])"
      ],
      "metadata": {
        "id": "Jmp97SbX-7L0"
      },
      "execution_count": null,
      "outputs": []
    },
    {
      "cell_type": "code",
      "source": [
        "!unzip /content/drive/MyDrive/MPE/ZoobotEuclid/Data/Hubble_COSMOS_complete/fits_hubble_complete.zip -d /content/fits_hubble_complete"
      ],
      "metadata": {
        "id": "K8T_kc8G-_sM"
      },
      "execution_count": null,
      "outputs": []
    },
    {
      "cell_type": "code",
      "source": [
        "!unzip /content/drive/MyDrive/MPE/ZoobotEuclid/Data/Euclidized_COSMOS_complete/fits_euclid_complete.zip -d /content/fits_euclid_complete"
      ],
      "metadata": {
        "id": "uh_kUpVF3uSS"
      },
      "execution_count": null,
      "outputs": []
    },
    {
      "cell_type": "code",
      "source": [
        "#Check how many Euclid images are there\n",
        "euclid_images = glob.glob(\"/content/fits_euclid_complete/fits_euclid/*.fits\")\n",
        "print(len(euclid_images))\n",
        "euclid_images = [file.split(\"/\")[-1].replace(\".fits\",\"\") for file in euclid_images]\n",
        "print(euclid_images[:10])"
      ],
      "metadata": {
        "colab": {
          "base_uri": "https://localhost:8080/"
        },
        "id": "6TXLsPX34FpM",
        "outputId": "c68e86b2-4127-4d22-d311-85f19b051f34"
      },
      "execution_count": null,
      "outputs": [
        {
          "output_type": "stream",
          "name": "stdout",
          "text": [
            "76176\n",
            "['20150496', '20159221', '20071167', '20148906', '20123854', '20189657', '20075857', '20069316', '20071839', '20184899']\n"
          ]
        }
      ]
    },
    {
      "cell_type": "code",
      "source": [
        "convert_to_jpgs(\"fits_hubble_complete/content/fits/\",\"jpgs_hubble_complete/\",euclid_images)"
      ],
      "metadata": {
        "colab": {
          "base_uri": "https://localhost:8080/"
        },
        "id": "33wexeO0_EFd",
        "outputId": "650244df-1f2c-4ffa-b3a4-7076f14d248f"
      },
      "execution_count": null,
      "outputs": [
        {
          "output_type": "stream",
          "name": "stdout",
          "text": [
            "Converting to jpgs...\n"
          ]
        },
        {
          "output_type": "stream",
          "name": "stderr",
          "text": [
            "100%|██████████| 84948/84948 [1:55:56<00:00, 12.21it/s]\n"
          ]
        }
      ]
    },
    {
      "cell_type": "code",
      "source": [
        "!zip -r /content/jpgs_hubble_complete.zip jpgs_hubble_complete"
      ],
      "metadata": {
        "id": "GmwN0cwp_Yms"
      },
      "execution_count": null,
      "outputs": []
    },
    {
      "cell_type": "code",
      "source": [
        "!cp jpgs_hubble_complete.zip /content/drive/MyDrive/MPE/ZoobotEuclid/Data/Hubble_COSMOS_complete/"
      ],
      "metadata": {
        "id": "19EgE5iJ_dRB"
      },
      "execution_count": null,
      "outputs": []
    },
    {
      "cell_type": "code",
      "source": [
        "hubble_images = glob.glob(\"/content/jpgs_hubble_complete/*\")\n",
        "print(len(hubble_images))"
      ],
      "metadata": {
        "colab": {
          "base_uri": "https://localhost:8080/"
        },
        "id": "6c9yL_CMim0o",
        "outputId": "eb934c93-1b5d-45a3-fa4f-65ebf68f7f07"
      },
      "execution_count": null,
      "outputs": [
        {
          "output_type": "stream",
          "name": "stdout",
          "text": [
            "76176\n"
          ]
        }
      ]
    }
  ],
  "metadata": {
    "colab": {
      "provenance": [],
      "collapsed_sections": [
        "JRx5Yje7NMO9"
      ],
      "authorship_tag": "ABX9TyM7UENjruaS1pcJU6HHnTNR"
    },
    "kernelspec": {
      "display_name": "Python 3",
      "name": "python3"
    },
    "language_info": {
      "name": "python"
    }
  },
  "nbformat": 4,
  "nbformat_minor": 0
}
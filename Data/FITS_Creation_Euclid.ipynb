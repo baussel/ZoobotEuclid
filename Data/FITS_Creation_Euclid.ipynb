{
  "cells": [
    {
      "cell_type": "code",
      "execution_count": null,
      "metadata": {
        "colab": {
          "base_uri": "https://localhost:8080/"
        },
        "id": "NPy_aysnFeWd",
        "outputId": "44249ee2-9185-44d6-cb6f-c49076c38f5d"
      },
      "outputs": [
        {
          "output_type": "stream",
          "name": "stdout",
          "text": [
            "Mounted at /content/drive\n"
          ]
        }
      ],
      "source": [
        "#Mount Google Drive with this Colab\n",
        "from google.colab import drive\n",
        "drive.mount('/content/drive', force_remount=True)"
      ]
    },
    {
      "cell_type": "code",
      "execution_count": null,
      "metadata": {
        "id": "Ah5NMtfvFkLf"
      },
      "outputs": [],
      "source": [
        "from astropy.io import fits\n",
        "import astropy\n",
        "import glob,os\n",
        "from matplotlib import pyplot as plt\n",
        "import numpy as np\n",
        "import pandas as pd\n",
        "%matplotlib inline\n",
        "\n",
        "from astropy.coordinates import SkyCoord\n",
        "from astropy.wcs import WCS\n",
        "from astropy import units as u\n",
        "from astropy.nddata import Cutout2D\n",
        "import datetime\n",
        "from PIL import Image\n",
        "from astropy.visualization import MinMaxInterval\n",
        "from astropy.visualization import PercentileInterval\n",
        "from astropy.stats import sigma_clipped_stats\n",
        "from tqdm import tqdm\n",
        "\n",
        "import astropy\n",
        "from astropy.io import fits\n",
        "from astropy.visualization import AsinhStretch, MinMaxInterval\n",
        "from PIL import Image, ImageOps\n",
        "\n",
        "from astropy.table import Table"
      ]
    },
    {
      "cell_type": "code",
      "execution_count": null,
      "metadata": {
        "id": "ShZXH_U2F5Lx"
      },
      "outputs": [],
      "source": [
        "def create_cutouts(image,galaxy,ra,dec,size,size_factor=3,overwrite_fits=True):\n",
        "\n",
        "    if not os.path.exists(\"fits_euclid\"):\n",
        "        os.makedirs(\"fits_euclid\")\n",
        "\n",
        "    try:\n",
        "        objCoord = SkyCoord(ra=ra*u.degree, dec=dec*u.degree)\n",
        "\n",
        "        s=size_factor*size\n",
        "\n",
        "        FoV = np.array([s, s])\n",
        "        FoV_dimen = u.Quantity((FoV[0], FoV[1]), u.arcsec)\n",
        "\n",
        "        cutout = Cutout2D(image, objCoord, FoV_dimen, wcs=wcs, mode='strict')\n",
        "        wcs_cut = cutout.wcs\n",
        "        hdr.update(wcs_cut.to_header())\n",
        "        hdr['COMMENT'] = \"= Cropped fits file ({}).\".format(datetime.date.today())\n",
        "        img = cutout.data\n",
        "        img = Image.fromarray(img)\n",
        "        im = img.resize((300,300))\n",
        "        resized_data = np.array(im)\n",
        "        fits.writeto(\"fits_euclid/\"+str(galaxy)+\".fits\", resized_data, overwrite=True)\n",
        "        print(\"Successful.\")\n",
        "\n",
        "    except Exception as e:\n",
        "        print(\"Error -\",e,str(galaxy))"
      ]
    },
    {
      "cell_type": "code",
      "execution_count": null,
      "metadata": {
        "colab": {
          "base_uri": "https://localhost:8080/"
        },
        "id": "8hiwRy9tGSdp",
        "outputId": "c777d8ba-bc60-49ad-d453-27b61639c013"
      },
      "outputs": [
        {
          "output_type": "stream",
          "name": "stderr",
          "text": [
            "WARNING: FITSFixedWarning: RADECSYS= 'ICRS ' / Astrometric system \n",
            "the RADECSYS keyword is deprecated, use RADESYSa. [astropy.wcs.wcs]\n",
            "WARNING:astropy:FITSFixedWarning: RADECSYS= 'ICRS ' / Astrometric system \n",
            "the RADECSYS keyword is deprecated, use RADESYSa.\n",
            "WARNING: FITSFixedWarning: 'datfix' made the change 'Set DATE-OBS to '2004-03-04' from MJD-OBS'. [astropy.wcs.wcs]\n",
            "WARNING:astropy:FITSFixedWarning: 'datfix' made the change 'Set DATE-OBS to '2004-03-04' from MJD-OBS'.\n"
          ]
        }
      ],
      "source": [
        "hdul = fits.open(\"/content/drive/MyDrive/MPE/2022_Ben_Aussel/Data/Euclidized_COSMOS/Data Challenge 2/sim_vis_DC2/sim_vis_cosmos_1.2deg.fits\")\n",
        "image = hdul[0].data\n",
        "hdr = hdul[0].header\n",
        "hdul.close()\n",
        "\n",
        "wcs = WCS(hdul[0].header)"
      ]
    },
    {
      "cell_type": "code",
      "execution_count": null,
      "metadata": {
        "id": "nRTka2lrGCUB"
      },
      "outputs": [],
      "source": [
        "data_complete = pd.read_csv('/content/drive/MyDrive/MPE/ZoobotEuclid/Data/Hubble_COSMOS_labels_complete.csv')\n",
        "data = data_complete\n",
        "data"
      ]
    },
    {
      "cell_type": "code",
      "execution_count": null,
      "metadata": {
        "id": "be2RyjVGGEH5"
      },
      "outputs": [],
      "source": [
        "for i in tqdm(range(0,len(data))):\n",
        "    create_cutouts(image,data[\"ObjNo\"].iloc[i], data[\"RA\"].iloc[i], data[\"DEC\"].iloc[i], data[\"rKron1\"].iloc[i],3)"
      ]
    },
    {
      "cell_type": "code",
      "execution_count": null,
      "metadata": {
        "id": "Eec7ThnFIEG-"
      },
      "outputs": [],
      "source": [
        "!zip -r /content/fits_euclid_complete.zip fits_euclid"
      ]
    },
    {
      "cell_type": "code",
      "execution_count": null,
      "metadata": {
        "id": "cZ5ACAtZJqQM"
      },
      "outputs": [],
      "source": [
        "!cp fits_euclid_complete.zip /content/drive/MyDrive/MPE/ZoobotEuclid/Data/Euclidized_COSMOS_complete/"
      ]
    }
  ],
  "metadata": {
    "colab": {
      "provenance": [],
      "authorship_tag": "ABX9TyPPRZALdJsNkfEjGS+d09kS"
    },
    "kernelspec": {
      "display_name": "Python 3",
      "name": "python3"
    },
    "language_info": {
      "name": "python"
    }
  },
  "nbformat": 4,
  "nbformat_minor": 0
}
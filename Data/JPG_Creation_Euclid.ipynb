{
  "cells": [
    {
      "cell_type": "code",
      "execution_count": null,
      "metadata": {
        "colab": {
          "base_uri": "https://localhost:8080/"
        },
        "id": "hqrTFXO9Dc-d",
        "outputId": "a84af864-de1a-4043-8ad1-493b9c78c6bf"
      },
      "outputs": [
        {
          "output_type": "stream",
          "name": "stdout",
          "text": [
            "Mounted at /content/drive\n"
          ]
        }
      ],
      "source": [
        "#Mount Google Drive with this Colab\n",
        "from google.colab import drive\n",
        "drive.mount('/content/drive', force_remount=True)"
      ]
    },
    {
      "cell_type": "code",
      "execution_count": null,
      "metadata": {
        "id": "UPTupFZyDi6k"
      },
      "outputs": [],
      "source": [
        "import numpy as np\n",
        "import matplotlib.pyplot as plt\n",
        "import pandas as pd\n",
        "import astropy\n",
        "from astropy.io import fits\n",
        "from astropy.visualization import AsinhStretch, MinMaxInterval\n",
        "from PIL import Image, ImageOps\n",
        "from tqdm import tqdm\n",
        "import glob\n",
        "import os"
      ]
    },
    {
      "cell_type": "code",
      "execution_count": null,
      "metadata": {
        "id": "lCoAvPp3Dk6u"
      },
      "outputs": [],
      "source": [
        "def arcsinh_stretch_ds9(data, a=10, factor=3):\n",
        "    #https://ds9.si.edu/doc/ref/how.html\n",
        "    return np.arcsinh(data * a)/factor"
      ]
    },
    {
      "cell_type": "code",
      "execution_count": null,
      "metadata": {
        "id": "yLVwP38bDpZ_"
      },
      "outputs": [],
      "source": [
        "def create_jpg(img,path_jpg,name,target_size=300):\n",
        "    native_pil_image = Image.fromarray((img * 255).astype(np.uint8),mode='L').convert('RGB')\n",
        "    resized_image = native_pil_image.resize(size=(target_size, target_size), resample=Image.LANCZOS)\n",
        "    resized_image_flip = ImageOps.flip(resized_image)\n",
        "    resized_image_flip.save(path_jpg+name+\".jpg\")"
      ]
    },
    {
      "cell_type": "code",
      "execution_count": null,
      "metadata": {
        "id": "kP6fYsBODsO5"
      },
      "outputs": [],
      "source": [
        "def convert_to_jpgs(path_fits, path_jpgs, target_size=300):\n",
        "    print(\"Converting to jpgs...\")\n",
        "    filenames = glob.glob(path_fits+\"*.fits\")\n",
        "    if not os.path.exists(path_jpgs):\n",
        "        os.makedirs(path_jpgs)\n",
        "    interval = MinMaxInterval()\n",
        "    failures = []\n",
        "    for i in tqdm(range(len(filenames))):\n",
        "        try:\n",
        "            image_path = filenames[i]\n",
        "            filenames[i] = filenames[i].replace(path_fits,\"\").replace(\".fits\",\"\")\n",
        "            image_data = fits.getdata(image_path, ext=0)\n",
        "            image_data_norm = interval(image_data)\n",
        "            image_data_asinh = arcsinh_stretch_ds9(image_data_norm)\n",
        "            create_jpg(image_data_asinh,path_jpgs,filenames[i],target_size)\n",
        "        except Exception as e:\n",
        "            print(\"Error:\",e)\n",
        "            failures.append(filenames[i])"
      ]
    },
    {
      "cell_type": "code",
      "execution_count": null,
      "metadata": {
        "id": "j6c7CF3GEG-E"
      },
      "outputs": [],
      "source": [
        "!unzip /content/drive/MyDrive/MPE/ZoobotEuclid/Data/Euclidized_COSMOS_complete/fits_euclid_complete.zip -d /content/fits_euclid_complete"
      ]
    },
    {
      "cell_type": "code",
      "execution_count": null,
      "metadata": {
        "id": "Af8Y0OUnENS8"
      },
      "outputs": [],
      "source": [
        "convert_to_jpgs(\"fits_euclid_complete/fits_euclid/\",\"jpgs_euclid_complete/\")"
      ]
    },
    {
      "cell_type": "code",
      "execution_count": null,
      "metadata": {
        "id": "arQ27p2JEVXI"
      },
      "outputs": [],
      "source": [
        "!zip -r /content/jpgs_euclid_complete.zip jpgs_euclid_complete"
      ]
    },
    {
      "cell_type": "code",
      "execution_count": null,
      "metadata": {
        "id": "MEc3LZC9EaRc"
      },
      "outputs": [],
      "source": [
        "!cp jpgs_euclid_complete.zip /content/drive/MyDrive/MPE/ZoobotEuclid/Data/Euclidized_COSMOS_complete/"
      ]
    },
    {
      "cell_type": "code",
      "execution_count": null,
      "metadata": {
        "id": "wn_JvmPuBv1t"
      },
      "outputs": [],
      "source": []
    }
  ],
  "metadata": {
    "colab": {
      "provenance": [],
      "authorship_tag": "ABX9TyMWSzA7h8W98H6f2UtunrQk"
    },
    "kernelspec": {
      "display_name": "Python 3",
      "name": "python3"
    },
    "language_info": {
      "name": "python"
    }
  },
  "nbformat": 4,
  "nbformat_minor": 0
}